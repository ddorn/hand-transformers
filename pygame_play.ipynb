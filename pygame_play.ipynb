{
 "cells": [
  {
   "cell_type": "code",
   "execution_count": 1,
   "metadata": {},
   "outputs": [
    {
     "name": "stdout",
     "output_type": "stream",
     "text": [
      "pygame 2.1.3 (SDL 2.26.4, Python 3.10.9)\n",
      "Hello from the pygame community. https://www.pygame.org/contribute.html\n",
      "Assets: /home/diego/ai/hand-transformer/viz/assets\n",
      "Images: /home/diego/ai/hand-transformer/viz/assets/images\n"
     ]
    }
   ],
   "source": [
    "from io import StringIO\n",
    "import os\n",
    "from time import sleep\n",
    "from threading import Thread\n",
    "import traceback\n",
    "import subprocess\n",
    "\n",
    "from hand import *\n",
    "from viz.main import pygame_mainloop_thread_start\n",
    "\n",
    "%load_ext autoreload\n",
    "%autoreload 2"
   ]
  },
  {
   "cell_type": "code",
   "execution_count": 2,
   "metadata": {},
   "outputs": [
    {
     "data": {
      "text/plain": [
       "<function viz.main.pygame_mainloop_thread_start.<locals>.<lambda>()>"
      ]
     },
     "execution_count": 2,
     "metadata": {},
     "output_type": "execute_result"
    }
   ],
   "source": [
    "# Start the pygame app in a separate thread\n",
    "quit_pygame = pygame_mainloop_thread_start(globals())"
   ]
  },
  {
   "cell_type": "code",
   "execution_count": 5,
   "metadata": {},
   "outputs": [],
   "source": [
    "from viz.engine import *\n",
    "from viz.utils import *"
   ]
  },
  {
   "cell_type": "code",
   "execution_count": 3,
   "metadata": {},
   "outputs": [
    {
     "ename": "NameError",
     "evalue": "name 'quit_pygame' is not defined",
     "output_type": "error",
     "traceback": [
      "\u001b[0;31m---------------------------------------------------------------------------\u001b[0m",
      "\u001b[0;31mNameError\u001b[0m                                 Traceback (most recent call last)",
      "Cell \u001b[0;32mIn [3], line 1\u001b[0m\n\u001b[0;32m----> 1\u001b[0m quit_pygame()\n",
      "\u001b[0;31mNameError\u001b[0m: name 'quit_pygame' is not defined"
     ]
    }
   ],
   "source": [
    "quit_pygame()"
   ]
  },
  {
   "cell_type": "code",
   "execution_count": 6,
   "metadata": {},
   "outputs": [],
   "source": [
    "prompt = \"0010\"\n",
    "task = Task.from_texts([\n",
    "    \"0000\",\n",
    "    \"0011\",\n",
    "    \"0100\",\n",
    "    \"0111\",\n",
    "    \"1000\",\n",
    "    \"1010\",\n",
    "    \"1101\",\n",
    "    \"1111\",\n",
    "])\n",
    "\n",
    "model = torch.load(\"./models/ITE-25k-epochs\")\n",
    "model = to_new_implem(model)\n",
    "from solutions.if_then_else import if_then_else\n",
    "model = if_then_else()\n",
    "\n",
    "perfs = Perfs([0])"
   ]
  },
  {
   "cell_type": "code",
   "execution_count": 7,
   "metadata": {},
   "outputs": [],
   "source": [
    "original = if_then_else()\n",
    "loss_original = task.loss(original)\n",
    "\n",
    "optimizer = torch.optim.SGD(model.parameters(),\n",
    "                            lr=0.2,\n",
    "                            weight_decay=0.01)"
   ]
  },
  {
   "cell_type": "code",
   "execution_count": 8,
   "metadata": {},
   "outputs": [
    {
     "ename": "",
     "evalue": "",
     "output_type": "error",
     "traceback": [
      "\u001b[1;31mThe Kernel crashed while executing code in the the current cell or a previous cell. Please review the code in the cell(s) to identify a possible cause of the failure. Click <a href='https://aka.ms/vscodeJupyterKernelCrash'>here</a> for more info. View Jupyter <a href='command:jupyter.viewOutput'>log</a> for further details."
     ]
    }
   ],
   "source": [
    "def draw(gfx: GFX):\n",
    "    r = transformer_outline(gfx, model)\n",
    "    # transformer_outline(gfx, original, r.topright + Vec2(40, 0))\n",
    "    loss = perfs.loss[-1]\n",
    "    r = gfx.texts(\n",
    "        f\"Loss trained:  {loss:.8f}\",\n",
    "        f\"Loss original: {loss_original:.8f}\",\n",
    "        f\"Loss diff: {loss - loss_original:.8f}\",\n",
    "        f\"Accuracy trained: {task.test(model):.2%}\",\n",
    "        bottomleft=r.topleft,\n",
    "        color='white',\n",
    "    )\n",
    "\n",
    "    q = model.blocks[0].attention.heads[1].queries\n",
    "    k = model.blocks[0].attention.heads[1].keys\n",
    "    emb = model.embedding.weight\n",
    "    qk = q @ k.T\n",
    "    r = draw_matrix(gfx, q, topleft=(-250, 50), title=\"Q\")\n",
    "    draw_matrix(gfx, k, topleft=r.topright + Vec2(20, 0), title=\"K\")\n",
    "    r = draw_matrix(gfx, emb[0] @ qk, topleft=r.bottomleft, title=\"QK·E_0\")\n",
    "    r = draw_matrix(gfx, emb[1] @ qk, topleft=r.topright + Vec2(50, 0), title=\"QK·E_1\")\n",
    "    v = qk @ emb[1]\n",
    "    emb_v = emb @ v\n",
    "    r = draw_matrix(gfx, emb_v, topleft=r.bottomleft, title=\"V\")\n",
    "    pe = model.position_encoder\n",
    "    r = draw_matrix(gfx, pe @ v, topleft=r.bottomleft + Vec2(0, 50), title=\"PE\")\n",
    "\n",
    "    gfx.plot(perfs.loss[-10000:], center=(200, -100), title=\"Loss\", color=\"red\")\n"
   ]
  },
  {
   "cell_type": "code",
   "execution_count": 7,
   "metadata": {},
   "outputs": [],
   "source": [
    "def logic():\n",
    "    train(model, task, epochs=1, perfs=perfs, optimizer=optimizer)\n",
    "    pass"
   ]
  },
  {
   "cell_type": "code",
   "execution_count": 16,
   "metadata": {},
   "outputs": [],
   "source": [
    "@pyapp.state.do_later(1)\n",
    "def do_next():\n",
    "    with torch.no_grad():\n",
    "        emb = model.embedding.weight\n",
    "        emb[0].abs_()\n",
    "        emb[1] = -emb[1].abs()\n",
    "        # for param in model.parameters():\n",
    "        #     a = 0.2\n",
    "        #     param.clamp_(-a, a)"
   ]
  },
  {
   "cell_type": "code",
   "execution_count": 23,
   "metadata": {},
   "outputs": [],
   "source": [
    "class TimeControl(Object):\n",
    "    def __init__(self, initial_state):\n",
    "        self.time = 0\n",
    "        self.paused = False\n",
    "        self.states = [initial_state]\n",
    "\n",
    "        super().__init__((0, 0))\n",
    "\n",
    "    @property\n",
    "    def current_state(self):\n",
    "        return self.states[self.time]\n",
    "\n",
    "    def create_inputs(self):\n",
    "        return super().create_inputs().union({\n",
    "            \"pause-time\": Button(pygame.K_SPACE)\n",
    "                .on_press(self.toggle_pause),\n",
    "            \"next-time\": Button(pygame.K_RIGHT)\n",
    "                .on_press_repeated(lambda _: self.move_time(1), 0.1)\n",
    "                .on_double_press(lambda _: self.move_time(10)),\n",
    "            \"prev-time\": Button(pygame.K_LEFT)\n",
    "                .on_press_repeated(lambda _: self.move_time(-1), 0.1)\n",
    "                .on_double_press(lambda _: self.move_time(-10)),\n",
    "        })\n",
    "\n",
    "    def toggle_pause(self):\n",
    "        self.paused = not self.paused\n",
    "\n",
    "    def move_time(self, delta):\n",
    "        self.time = max(0, min(len(self.states), self.time + delta))\n",
    "\n",
    "    def draw(self, gfx: GFX):\n",
    "        rect = pygame.Rect(0, 0, gfx.surf.get_width(), 30)\n",
    "        gfx.box(rect, color=\"black\", abs_position=True)\n",
    "        pygame.draw.line(gfx.surf, \"white\", rect.bottomleft, rect.bottomright)\n",
    "        r = gfx.text(f\"Time: {self.time + 1} / {len(self.states)}\", midleft=rect.midleft, color=\"white\", abs_position=True)\n",
    "        # 400 px progress bar\n",
    "        r = gfx.rect(r.right + 10, rect.centery -10, 400, 20, color=\"white\", width=1, abs_position=True)\n",
    "\n",
    "    def append_state(self, state):\n",
    "        # Advance the time if we were waiting for the next state\n",
    "        if not self.paused and self.time == len(self.states):\n",
    "            self.time += 1\n",
    "        self.states.append(state)\n",
    "\n",
    "# For reloading\n",
    "try:\n",
    "    timer.alive = False\n",
    "except NameError:\n",
    "    pass\n",
    "\n",
    "timer = pyapp.state.add(TimeControl(model))\n",
    "\n"
   ]
  },
  {
   "cell_type": "code",
   "execution_count": 9,
   "metadata": {},
   "outputs": [
    {
     "name": "stderr",
     "output_type": "stream",
     "text": [
      "Traceback (most recent call last):\n",
      "  File \"/home/diego/ai/hand-transformer/viz/main.py\", line 200, in draw\n",
      "    self.globals.get('draw', lambda gfx: None)(gfx)\n",
      "  File \"/tmp/ipykernel_75028/3021211618.py\", line 2, in draw\n",
      "    r = transformer_outline(gfx, model)\n",
      "  File \"/home/diego/ai/hand-transformer/viz/utils.py\", line 50, in transformer_outline\n",
      "    r = transformer_block_outline(gfx, block, pos=(pos.x, r.bottom + 40))\n",
      "  File \"/home/diego/ai/hand-transformer/viz/utils.py\", line 82, in transformer_block_outline\n",
      "    r2 = mlp_outline(gfx, block.mlp, pos=r.bottomleft)\n",
      "  File \"/home/diego/ai/hand-transformer/viz/utils.py\", line 114, in mlp_outline\n",
      "    r = draw_matrix(gfx,\n",
      "  File \"/home/diego/ai/hand-transformer/viz/utils.py\", line 191, in draw_matrix\n",
      "    rect = Rect(heatmap_rect.x + c * size, heatmap_rect.y + r * size,\n",
      "NameError: name 'Rect' is not defined\n"
     ]
    }
   ],
   "source": [
    "class TensorView(Object):\n",
    "    def __init__(self, tensor_or_getter, neuron_size=10, title=\"\", legend=False, **anchor):\n",
    "        if callable(tensor_or_getter):\n",
    "            self._tensor_or_getter = tensor_or_getter\n",
    "        else:\n",
    "            self._tensor_or_getter = lambda: tensor_or_getter\n",
    "\n",
    "        t = self.tensor\n",
    "        self.shape = tuple(t.shape)\n",
    "        self.title = title\n",
    "        self.legend = legend\n",
    "        self.anchor = anchor\n",
    "        self.neuron_size = neuron_size\n",
    "\n",
    "        rect = self.geometry(**anchor)\n",
    "\n",
    "        super().__init__(rect.topleft, rect.size, (0, 0))\n",
    "\n",
    "    @property\n",
    "    def tensor(self) -> torch.Tensor:\n",
    "        return self._tensor_or_getter()\n",
    "\n",
    "    def geometry(self, ret_heatmap_rect=False, **anchor) -> pygame.Rect:\n",
    "        assert len(anchor) == 1, \"Only one anchor is allowed\"\n",
    "        \n",
    "        size = self.neuron_size\n",
    "        \n",
    "        heatmap_rect = Rect(0, 0, self.shape[1] * size, self.shape[0] * size)\n",
    "        full_rect = heatmap_rect.copy()\n",
    "        if self.title:\n",
    "            title_height = font().size(self.title)[1]\n",
    "            full_rect.height += title_height\n",
    "            heatmap_rect.y += title_height\n",
    "        if self.legend:\n",
    "            full_rect.width += size\n",
    "            heatmap_rect.x += size\n",
    "        anchor, anchor_pos = anchor.popitem()\n",
    "        setattr(full_rect, anchor, anchor_pos)\n",
    "        heatmap_rect.topleft += Vec2(full_rect.topleft)\n",
    "\n",
    "        if ret_heatmap_rect:\n",
    "            return heatmap_rect\n",
    "        return full_rect\n",
    "\n",
    "    def logic(self):\n",
    "        self.past_tensor = self.tensor.detach().clone()\n",
    "        return super().logic()\n",
    "\n",
    "    def draw(self, gfx: \"GFX\"):\n",
    "        matrix = self.tensor\n",
    "        assert matrix.shape == self.shape\n",
    "\n",
    "        \"\"\"Draw a matrix or vector as a heatmap\"\"\"\n",
    "        if matrix.dim() == 1:\n",
    "            matrix = matrix.unsqueeze(1)\n",
    "\n",
    "        if self.title:\n",
    "            gfx.text(self.title, midtop=self.rect.midtop)\n",
    "\n",
    "        # Use a symmetric range for the colors\n",
    "        range_ = max(abs(matrix.min()), abs(matrix.max())).item()\n",
    "        if range_ == 0:\n",
    "            range_ = 1\n",
    "\n",
    "        if matrix.grad is not None:\n",
    "            grad = matrix.grad\n",
    "        else:\n",
    "            grad = matrix.detach() - self.past_tensor\n",
    "        grad_range = max(abs(grad.min()), abs(grad.max())).item()\n",
    "        if grad_range == 0:\n",
    "            grad_range = 1\n",
    "\n",
    "\n",
    "        heatmap_rect = self.geometry(ret_heatmap_rect=True, **self.anchor)\n",
    "\n",
    "        for r in range(matrix.shape[0]):\n",
    "            for c in range(matrix.shape[1]):\n",
    "                v = matrix[r, c].item()\n",
    "                pos = Vec2(c, r) * self.neuron_size + heatmap_rect.topleft\n",
    "                rect = Rect(pos, (self.neuron_size, self.neuron_size))\n",
    "                gfx.box(rect, self.color(v, range_))\n",
    "                if grad_range is not None:\n",
    "                    g = grad[r, c].item()\n",
    "                    gfx.rect(*rect, self.color(g, grad_range), 3)\n",
    "                gfx.text(\n",
    "                    self.fmt_text(v, gfx),\n",
    "                    15 / gfx.screen_scale,  # For constant screen size\n",
    "                    \"white\",\n",
    "                    center=rect.center,\n",
    "                )\n",
    "\n",
    "        gfx.rect(*heatmap_rect, \"pink\", 1)\n",
    "\n",
    "        return super().draw(gfx)\n",
    "        \n",
    "    def fmt_text(self, v: float, gfx) -> str:\n",
    "        screen_size = self.neuron_size * gfx.screen_scale\n",
    "\n",
    "        if screen_size < 15:\n",
    "            return \"\"\n",
    "        f = f\"{v:.{int(screen_size // 30)}f}\"\n",
    "        # If only zeros, don't show them\n",
    "        if all(c == \"0\" for c in f if c.isdigit()):\n",
    "            return \"\"\n",
    "        return f\n",
    "\n",
    "    def color(self, v: float, range_: float) -> Tuple[int, int, int]:\n",
    "        zero_color = (20, 30, 40)\n",
    "        if v < 0:\n",
    "            return mix(RED, zero_color, chrange(v, (-range_, 0), (0, 1)))\n",
    "        else:\n",
    "            return mix((zero_color), GREEN, chrange(v, (0, range_), (0, 1)))\n",
    "\n",
    "\n",
    "\n",
    "# For reloading\n",
    "try:\n",
    "    t.alive = False\n",
    "except NameError:\n",
    "    pass\n",
    "\n",
    "def watcher():\n",
    "    head = model.blocks[0].attention.heads[0]\n",
    "    q = head.queries\n",
    "    k = head.keys\n",
    "    return q @ k.T\n",
    "\n",
    "# t = pyapp.state.add(TensorView(\n",
    "#     watcher,\n",
    "#     title=\"Q 0\",\n",
    "#     topleft=(0, -200),\n",
    "#     neuron_size=20,\n",
    "# ))\n",
    "\n",
    "def draw(gfx: GFX):\n",
    "    transformer_outline(gfx, model, pos=(0, 0))"
   ]
  },
  {
   "cell_type": "code",
   "execution_count": 53,
   "metadata": {},
   "outputs": [
    {
     "data": {
      "text/plain": [
       "tensor([[-5.7539e-04,  6.0611e-04,  1.8771e-04, -8.9267e-04,  1.7244e-04,\n",
       "          3.5200e-04, -3.5142e-04,  1.0021e-04, -1.1393e-04,  0.0000e+00,\n",
       "         -1.9094e-04,  9.3221e-04],\n",
       "        [ 5.1911e-04, -5.4670e-04, -1.4138e-04,  5.2188e-04, -1.1979e-03,\n",
       "         -3.1211e-04,  3.1158e-04, -8.9031e-05,  1.0118e-04,  0.0000e+00,\n",
       "          1.3933e-04, -3.8464e-04]])"
      ]
     },
     "execution_count": 53,
     "metadata": {},
     "output_type": "execute_result"
    }
   ],
   "source": [
    "model.embedding.weight.grad"
   ]
  },
  {
   "cell_type": "code",
   "execution_count": null,
   "metadata": {},
   "outputs": [],
   "source": [
    "\n",
    "a = (\n",
    "    \"000 0\",\n",
    "    \"100 0\",\n",
    "    \"101 0\",\n",
    "    \"001 1\",\n",
    "\n",
    "    \"010 0\",\n",
    "    \"011 1\",\n",
    "    \"110 1\",\n",
    "    \"111 1\",\n",
    ")\n",
    "\n",
    "b = (\n",
    "    \"000 0\",\n",
    "    \"100 0\",\n",
    "    \"010 0\",\n",
    "    \"110 1\",\n",
    "\n",
    "    \"101 0\",\n",
    "    \"001 1\",\n",
    "    \"011 1\",\n",
    "    \"111 1\",\n",
    ")"
   ]
  }
 ],
 "metadata": {
  "kernelspec": {
   "display_name": "Python 3",
   "language": "python",
   "name": "python3"
  },
  "language_info": {
   "codemirror_mode": {
    "name": "ipython",
    "version": 3
   },
   "file_extension": ".py",
   "mimetype": "text/x-python",
   "name": "python",
   "nbconvert_exporter": "python",
   "pygments_lexer": "ipython3",
   "version": "3.10.9"
  },
  "orig_nbformat": 4,
  "vscode": {
   "interpreter": {
    "hash": "e7370f93d1d0cde622a1f8e1c04877d8463912d04d973331ad4851f04de6915a"
   }
  }
 },
 "nbformat": 4,
 "nbformat_minor": 2
}
