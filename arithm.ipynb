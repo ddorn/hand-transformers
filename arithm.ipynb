{
 "cells": [
  {
   "cell_type": "code",
   "execution_count": 1,
   "metadata": {},
   "outputs": [],
   "source": [
    "import random\n",
    "from dataclasses import dataclass\n",
    "from copy import deepcopy\n",
    "import time\n",
    "\n",
    "from tqdm import tqdm\n",
    "import torch\n",
    "from torchtyping import TensorType as TT, patch_typeguard\n",
    "\n",
    "from hand import Transformer, Task, Perfs\n",
    "from viz.pygame_mainloop import pygame_mainloop_thread_start\n",
    "\n",
    "%matplotlib inline\n",
    "%load_ext autoreload\n",
    "%autoreload 2\n",
    "\n",
    "import matplotlib.pyplot as plt\n",
    "\n",
    "patch_typeguard()"
   ]
  },
  {
   "cell_type": "code",
   "execution_count": 14,
   "metadata": {},
   "outputs": [
    {
     "name": "stdout",
     "output_type": "stream",
     "text": [
      "pygame 2.1.3 (SDL 2.26.4, Python 3.10.9)\n",
      "Hello from the pygame community. https://www.pygame.org/contribute.html\n",
      "Assets: /home/diego/ai/hand-transformer/viz/assets\n",
      "Images: /home/diego/ai/hand-transformer/viz/assets/images\n"
     ]
    }
   ],
   "source": [
    "crash_kernel = pygame_mainloop_thread_start(globals())"
   ]
  },
  {
   "cell_type": "code",
   "execution_count": 137,
   "metadata": {},
   "outputs": [
    {
     "name": "stdout",
     "output_type": "stream",
     "text": [
      "Traceback (most recent call last):\n",
      "  File \"/home/diego/ai/hand-transformer/viz/pygame_mainloop.py\", line 21, in run_app\n",
      "    pyapp.run()\n",
      "  File \"/home/diego/ai/hand-transformer/viz/engine/app.py\", line 62, in run\n",
      "    self.clock.tick(self.state.FPS)\n",
      "AttributeError: 'NoneType' object has no attribute 'FPS'\n",
      "\n"
     ]
    },
    {
     "ename": "SystemExit",
     "evalue": "",
     "output_type": "error",
     "traceback": [
      "An exception has occurred, use %tb to see the full traceback.\n",
      "\u001b[0;31mSystemExit\u001b[0m\n"
     ]
    },
    {
     "name": "stderr",
     "output_type": "stream",
     "text": [
      "/home/diego/.local/lib/python3.10/site-packages/IPython/core/interactiveshell.py:3441: UserWarning: To exit: use 'exit', 'quit', or Ctrl-D.\n",
      "  warn(\"To exit: use 'exit', 'quit', or Ctrl-D.\", stacklevel=1)\n"
     ]
    },
    {
     "name": "stdout",
     "output_type": "stream",
     "text": [
      "App crashed!!!\n"
     ]
    }
   ],
   "source": [
    "crash_kernel()"
   ]
  },
  {
   "cell_type": "code",
   "execution_count": 3,
   "metadata": {},
   "outputs": [],
   "source": [
    "class ArithmeticTask(Task):\n",
    "\n",
    "    def __init__(self, prompt_len: int = 100,\n",
    "                    max_number: int = 1000,\n",
    "                    ops: tuple[str, ...] = (\"+\",),\n",
    "                    max_operends: int = 2,\n",
    "                    parens_prob: float = 0,\n",
    "                    allow_negative: bool = False,\n",
    "                    max_decimals: int = 0) -> None:\n",
    "        self.max_number = max_number\n",
    "        self.ops = ops\n",
    "        self.max_operends = max_operends\n",
    "        self.parens_prob = parens_prob\n",
    "        self.allow_negative = allow_negative\n",
    "        self.max_decimals = max_decimals\n",
    "\n",
    "        super().__init__(list(\"0123456789.+-*=()/%^\"), prompt_len, pad_token=\"_\")\n",
    "\n",
    "    def construct(self, n_operends) -> str:\n",
    "        if n_operends == 1:\n",
    "            if self.allow_negative:\n",
    "                mini = -self.max_number\n",
    "            else:\n",
    "                mini = 0\n",
    "            if self.max_decimals > 0:\n",
    "                rounding = random.randrange(0, self.max_decimals)\n",
    "                return str(round(random.uniform(mini, self.max_number), rounding))\n",
    "            else:\n",
    "                return str(random.randrange(mini, self.max_number))\n",
    "\n",
    "        if n_operends == self.max_operends and random.random() > 1 / self.max_operends:\n",
    "            return self.construct(random.randrange(1, self.max_operends))\n",
    "        \n",
    "        n_ops_left = random.randrange(1, n_operends)\n",
    "        a = self.construct(n_ops_left)\n",
    "        b = self.construct(n_operends - n_ops_left)\n",
    "        op = random.choice(self.ops)\n",
    "        ret = f\"{a}{op}{b}\"\n",
    "        if random.random() < self.parens_prob:\n",
    "            ret = f\"({ret})\"\n",
    "        return ret\n",
    "\n",
    "    def dataset_size(self, n_operands=None) -> int:\n",
    "        if n_operands is None:\n",
    "            n_operands = self.max_operends\n",
    "\n",
    "        if n_operands == 1:\n",
    "            if self.allow_negative:\n",
    "                range_ = self.max_number * 2\n",
    "            else:\n",
    "                range_ = self.max_number\n",
    "            return range_ * 10 ** self.max_decimals\n",
    "\n",
    "        if self.parens_prob > 0:\n",
    "            raise NotImplementedError(\"Parentheses are not supported yet\")\n",
    "\n",
    "        item_possibilities = self.dataset_size(1)\n",
    "        total = 0\n",
    "        for n_ops in range(n_operands):\n",
    "            total += item_possibilities ** (n_ops + 1) * len(self.ops) ** n_ops\n",
    "        return total\n",
    "            \n",
    "\n",
    "        \n",
    "\n",
    "    def generate(self, batch_size: str, unique=True, max_tries=30) -> tuple[list[str], list[str]]:\n",
    "        prompts = []\n",
    "        answers = [] \n",
    "        tries = 0\n",
    "        while len(prompts) < batch_size:\n",
    "            c = self.construct(self.max_operends)\n",
    "            try:\n",
    "                res = str(eval(c))\n",
    "            except:\n",
    "                res = 'nan'\n",
    "\n",
    "            cut = random.randrange(0, len(res))\n",
    "            prompt = f\"{c}={res[:cut]}\"\n",
    "            answer = res[cut]\n",
    "\n",
    "            if len(prompt) > self.prompt_len:\n",
    "                continue\n",
    "            if unique and prompt in prompts:\n",
    "                tries += 1\n",
    "                if tries > max_tries:\n",
    "                    break\n",
    "                continue\n",
    "\n",
    "            prompts.append(prompt)\n",
    "            answers.append(answer)\n",
    "            tries = 0\n",
    "\n",
    "        return prompts, answers"
   ]
  },
  {
   "cell_type": "code",
   "execution_count": 10,
   "metadata": {},
   "outputs": [
    {
     "data": {
      "text/plain": [
       "3192"
      ]
     },
     "execution_count": 10,
     "metadata": {},
     "output_type": "execute_result"
    }
   ],
   "source": [
    "task = ArithmeticTask(\n",
    "    prompt_len=20,\n",
    "    max_number=56,\n",
    "    ops=(\"+\",),\n",
    "    max_operends=2,\n",
    "    parens_prob=0,\n",
    "    allow_negative=False,\n",
    "    max_decimals=0,\n",
    ")\n",
    "task.dataset_size()"
   ]
  },
  {
   "cell_type": "code",
   "execution_count": 5,
   "metadata": {},
   "outputs": [],
   "source": [
    "model = Transformer(\n",
    "    voc_size=len(task.tokens),\n",
    "    embedding_size=64,\n",
    "    depth=4,\n",
    "    heads=4,\n",
    "    max_prompt_len=task.prompt_len,\n",
    "    mlp_dims=(64 * 4,),\n",
    ")\n",
    "model.init_weights()\n",
    "optim = torch.optim.SGD(model.parameters(), lr=5e-5, weight_decay=5e-6, momentum=0.95)\n",
    "perfs = Perfs([100])\n",
    "saves = []"
   ]
  },
  {
   "cell_type": "code",
   "execution_count": null,
   "metadata": {},
   "outputs": [],
   "source": [
    "@dataclass\n",
    "class Save:\n",
    "    model: dict\n",
    "    timestamp: float\n",
    "    note: str\n",
    "\n",
    "saves: list[Save] = []\n",
    "saves = torch.load(\"saves.pt\")"
   ]
  },
  {
   "cell_type": "code",
   "execution_count": 26,
   "metadata": {},
   "outputs": [],
   "source": [
    "def save(note: str = \"no comment\"):\n",
    "    saves.append(Save(\n",
    "        deepcopy(model.state_dict()),\n",
    "        time.time(),\n",
    "        note,\n",
    "    ))\n",
    "    torch.save(saves, \"saves.pt\")\n",
    "    print(f\"Saved model state to {len(saves) - 1}, note: {note} at {time.ctime()}\")\n",
    "def recall(n=-1):\n",
    "    model.load_state_dict(deepcopy(saves[n].model))\n",
    "    n = len(saves) + n if n < 0 else n\n",
    "    print(f\"Recalled model state from {n} note: {saves[n].note} ({len(saves) - 1} total saves)\")\n",
    "def set_hyperparams(optim, lr=None, weight_decay=None, momentum=None):\n",
    "    for g in optim.param_groups:\n",
    "        if lr is not None:\n",
    "            g['lr'] = lr\n",
    "        if weight_decay is not None:\n",
    "            g['weight_decay'] = weight_decay\n",
    "        if momentum is not None:\n",
    "            g['momentum'] = momentum\n",
    "def call_once(f):\n",
    "    called = False\n",
    "    def wrapper(*args, **kwargs):\n",
    "        nonlocal called\n",
    "        if not called:\n",
    "            called = True\n",
    "            return f(*args, **kwargs)\n",
    "    return wrapper\n"
   ]
  },
  {
   "cell_type": "code",
   "execution_count": 7,
   "metadata": {},
   "outputs": [
    {
     "name": "stdout",
     "output_type": "stream",
     "text": [
      "Recalled model state from 40 note: Learned to add up to 56 (40 total saves)\n"
     ]
    }
   ],
   "source": [
    "recall(-1)"
   ]
  },
  {
   "cell_type": "code",
   "execution_count": 55,
   "metadata": {},
   "outputs": [
    {
     "name": "stdout",
     "output_type": "stream",
     "text": [
      "Saved model state to 72, note: Learned to add up to 649 at Fri Mar 17 10:54:34 2023\n"
     ]
    }
   ],
   "source": [
    "lr = 5e-5\n",
    "weight_decay = 1e-6\n",
    "def curriculum():\n",
    "    global lr\n",
    "    def loss(last=10):\n",
    "        if len(perfs.loss) < last:\n",
    "            return 100\n",
    "        return sum(perfs.loss[-last:]) / last\n",
    "\n",
    "    def variance(last=10):\n",
    "        if len(perfs.loss) < last:\n",
    "            return 100\n",
    "        return torch.var(torch.tensor(perfs.loss[-last:]))\n",
    "\n",
    "    # model.init_weights()\n",
    "    steps = 0\n",
    "    while True:\n",
    "        steps += 1\n",
    "        yield\n",
    "\n",
    "        if steps > 10 and loss() < 0.001:\n",
    "            steps = 0\n",
    "            lr = 5e-5\n",
    "            set_hyperparams(optim, lr, weight_decay)\n",
    "            save(f\"Learned to add up to {task.max_number-1}\")\n",
    "            if task.max_number < 650:\n",
    "                task.max_number += 1 + task.max_number // 15\n",
    "            else:\n",
    "                task.allow_negative = True\n",
    "\n",
    "        # if steps > 20 and variance(20) > loss(20):\n",
    "        #     steps = 0\n",
    "        #     lr *= 0.7\n",
    "        #     lr = max(lr, 1e-5)\n",
    "        #     set_hyperparams(optim, lr, weight_decay)\n",
    "\n",
    "        # if loss doesn't go down much, increase learning rate\n",
    "        if steps > 50 and lr < 70e-5 and abs(loss(50) - loss(10)) < 0.1:\n",
    "            steps = 0\n",
    "            lr *= 1.3\n",
    "            lr = min(lr, 70e-5)\n",
    "            set_hyperparams(optim, lr, weight_decay)\n",
    "curr = curriculum()"
   ]
  },
  {
   "cell_type": "code",
   "execution_count": 56,
   "metadata": {},
   "outputs": [],
   "source": [
    "@call_once\n",
    "def modify():\n",
    "    global lr, weight_decay\n",
    "    lr = 1e-3\n",
    "    weight_decay = 1e-5\n",
    "    set_hyperparams(optim, lr=lr, momentum=0.98, weight_decay=weight_decay)\n",
    "    # with torch.no_grad():\n",
    "    #     emb = model.embedding.weight\n",
    "        # emb[-1] = 0\n"
   ]
  },
  {
   "cell_type": "code",
   "execution_count": 59,
   "metadata": {},
   "outputs": [],
   "source": [
    "batch_size = 1000\n",
    "def logic():\n",
    "    return\n",
    "    next(curr)\n",
    "    modify()\n",
    "\n",
    "    x, y = task.generate_batch(batch_size)\n",
    "    optim.zero_grad()\n",
    "    loss = model.loss(x, y)\n",
    "    loss.backward()\n",
    "    optim.step()\n",
    "    perfs.update(loss, model, task)"
   ]
  },
  {
   "cell_type": "code",
   "execution_count": 12,
   "metadata": {},
   "outputs": [
    {
     "name": "stdout",
     "output_type": "stream",
     "text": [
      "Saved model state to 41, note: Learned to add up to 55 at Fri Mar 17 04:55:22 2023\n",
      "Saved model state to 42, note: Learned to add up to 59 at Fri Mar 17 04:57:50 2023\n",
      "Saved model state to 43, note: Learned to add up to 64 at Fri Mar 17 05:01:22 2023\n",
      "Saved model state to 44, note: Learned to add up to 69 at Fri Mar 17 05:04:19 2023\n",
      "Saved model state to 45, note: Learned to add up to 74 at Fri Mar 17 05:07:28 2023\n",
      "Saved model state to 46, note: Learned to add up to 80 at Fri Mar 17 05:10:09 2023\n",
      "Saved model state to 47, note: Learned to add up to 86 at Fri Mar 17 05:13:22 2023\n",
      "Saved model state to 48, note: Learned to add up to 92 at Fri Mar 17 05:16:38 2023\n",
      "Saved model state to 49, note: Learned to add up to 99 at Fri Mar 17 05:20:05 2023\n",
      "Saved model state to 50, note: Learned to add up to 106 at Fri Mar 17 05:28:49 2023\n",
      "Saved model state to 51, note: Learned to add up to 114 at Fri Mar 17 05:39:05 2023\n",
      "Saved model state to 52, note: Learned to add up to 122 at Fri Mar 17 05:51:16 2023\n",
      "Saved model state to 53, note: Learned to add up to 131 at Fri Mar 17 06:02:15 2023\n",
      "Saved model state to 54, note: Learned to add up to 140 at Fri Mar 17 06:11:32 2023\n",
      "Saved model state to 55, note: Learned to add up to 150 at Fri Mar 17 06:18:41 2023\n",
      "Saved model state to 56, note: Learned to add up to 161 at Fri Mar 17 06:32:54 2023\n",
      "Saved model state to 57, note: Learned to add up to 172 at Fri Mar 17 06:43:34 2023\n",
      "Saved model state to 58, note: Learned to add up to 184 at Fri Mar 17 06:58:19 2023\n",
      "Saved model state to 59, note: Learned to add up to 197 at Fri Mar 17 07:09:23 2023\n",
      "Saved model state to 60, note: Learned to add up to 211 at Fri Mar 17 07:27:09 2023\n",
      "Saved model state to 61, note: Learned to add up to 226 at Fri Mar 17 07:45:50 2023\n",
      "Saved model state to 62, note: Learned to add up to 242 at Fri Mar 17 07:59:49 2023\n",
      "Saved model state to 63, note: Learned to add up to 259 at Fri Mar 17 08:09:08 2023\n",
      "Saved model state to 64, note: Learned to add up to 277 at Fri Mar 17 08:19:56 2023\n",
      "Saved model state to 65, note: Learned to add up to 296 at Fri Mar 17 08:33:56 2023\n",
      "Saved model state to 66, note: Learned to add up to 316 at Fri Mar 17 08:50:59 2023\n",
      "Saved model state to 67, note: Learned to add up to 338 at Fri Mar 17 09:03:56 2023\n",
      "Saved model state to 68, note: Learned to add up to 361 at Fri Mar 17 09:20:18 2023\n",
      "Saved model state to 69, note: Learned to add up to 386 at Fri Mar 17 09:30:55 2023\n"
     ]
    },
    {
     "ename": "KeyboardInterrupt",
     "evalue": "",
     "output_type": "error",
     "traceback": [
      "\u001b[0;31m---------------------------------------------------------------------------\u001b[0m",
      "\u001b[0;31mKeyboardInterrupt\u001b[0m                         Traceback (most recent call last)",
      "Cell \u001b[0;32mIn [12], line 2\u001b[0m\n\u001b[1;32m      1\u001b[0m \u001b[39mwhile\u001b[39;00m \u001b[39mTrue\u001b[39;00m:\n\u001b[0;32m----> 2\u001b[0m     logic()\n",
      "Cell \u001b[0;32mIn [11], line 10\u001b[0m, in \u001b[0;36mlogic\u001b[0;34m()\u001b[0m\n\u001b[1;32m      8\u001b[0m x, y \u001b[39m=\u001b[39m task\u001b[39m.\u001b[39mgenerate_batch(batch_size)\n\u001b[1;32m      9\u001b[0m optim\u001b[39m.\u001b[39mzero_grad()\n\u001b[0;32m---> 10\u001b[0m loss \u001b[39m=\u001b[39m model\u001b[39m.\u001b[39;49mloss(x, y)\n\u001b[1;32m     11\u001b[0m loss\u001b[39m.\u001b[39mbackward()\n\u001b[1;32m     12\u001b[0m optim\u001b[39m.\u001b[39mstep()\n",
      "File \u001b[0;32m~/ai/hand-transformer/hand.py:276\u001b[0m, in \u001b[0;36mTransformer.loss\u001b[0;34m(self, x, y)\u001b[0m\n\u001b[1;32m    274\u001b[0m \u001b[39mdef\u001b[39;00m \u001b[39mloss\u001b[39m(\u001b[39mself\u001b[39m, x: TensorType[\u001b[39m'\u001b[39m\u001b[39mbatch\u001b[39m\u001b[39m'\u001b[39m, \u001b[39m'\u001b[39m\u001b[39mtoken\u001b[39m\u001b[39m'\u001b[39m],\n\u001b[1;32m    275\u001b[0m          y: TensorType[\u001b[39m'\u001b[39m\u001b[39mbatch\u001b[39m\u001b[39m'\u001b[39m]) \u001b[39m-\u001b[39m\u001b[39m>\u001b[39m TensorType[\u001b[39m'\u001b[39m\u001b[39mbatch\u001b[39m\u001b[39m'\u001b[39m]:\n\u001b[0;32m--> 276\u001b[0m     logits \u001b[39m=\u001b[39m \u001b[39mself\u001b[39;49m\u001b[39m.\u001b[39;49mforward(x)\n\u001b[1;32m    277\u001b[0m     \u001b[39mreturn\u001b[39;00m torch\u001b[39m.\u001b[39mnn\u001b[39m.\u001b[39mfunctional\u001b[39m.\u001b[39mcross_entropy(logits, y)\n",
      "File \u001b[0;32m~/ai/hand-transformer/hand.py:265\u001b[0m, in \u001b[0;36mTransformer.forward\u001b[0;34m(self, x)\u001b[0m\n\u001b[1;32m    263\u001b[0m with_pos \u001b[39m=\u001b[39m embeded \u001b[39m+\u001b[39m \u001b[39mself\u001b[39m\u001b[39m.\u001b[39mposition_encoder\n\u001b[1;32m    264\u001b[0m debug(with_pos, \u001b[39m\"\u001b[39m\u001b[39membed+pos\u001b[39m\u001b[39m\"\u001b[39m)\n\u001b[0;32m--> 265\u001b[0m x \u001b[39m=\u001b[39m \u001b[39mself\u001b[39;49m\u001b[39m.\u001b[39;49mblocks(with_pos)\n\u001b[1;32m    266\u001b[0m out \u001b[39m=\u001b[39m x[:, \u001b[39m-\u001b[39m\u001b[39m1\u001b[39m, :]\u001b[39m.\u001b[39msqueeze(\u001b[39m1\u001b[39m)  \u001b[39m# only the last token is the prediction\u001b[39;00m\n\u001b[1;32m    267\u001b[0m unembeded \u001b[39m=\u001b[39m out \u001b[39m@\u001b[39m \u001b[39mself\u001b[39m\u001b[39m.\u001b[39munembedding\n",
      "File \u001b[0;32m~/.local/lib/python3.10/site-packages/torch/nn/modules/module.py:1194\u001b[0m, in \u001b[0;36mModule._call_impl\u001b[0;34m(self, *input, **kwargs)\u001b[0m\n\u001b[1;32m   1190\u001b[0m \u001b[39m# If we don't have any hooks, we want to skip the rest of the logic in\u001b[39;00m\n\u001b[1;32m   1191\u001b[0m \u001b[39m# this function, and just call forward.\u001b[39;00m\n\u001b[1;32m   1192\u001b[0m \u001b[39mif\u001b[39;00m \u001b[39mnot\u001b[39;00m (\u001b[39mself\u001b[39m\u001b[39m.\u001b[39m_backward_hooks \u001b[39mor\u001b[39;00m \u001b[39mself\u001b[39m\u001b[39m.\u001b[39m_forward_hooks \u001b[39mor\u001b[39;00m \u001b[39mself\u001b[39m\u001b[39m.\u001b[39m_forward_pre_hooks \u001b[39mor\u001b[39;00m _global_backward_hooks\n\u001b[1;32m   1193\u001b[0m         \u001b[39mor\u001b[39;00m _global_forward_hooks \u001b[39mor\u001b[39;00m _global_forward_pre_hooks):\n\u001b[0;32m-> 1194\u001b[0m     \u001b[39mreturn\u001b[39;00m forward_call(\u001b[39m*\u001b[39;49m\u001b[39minput\u001b[39;49m, \u001b[39m*\u001b[39;49m\u001b[39m*\u001b[39;49mkwargs)\n\u001b[1;32m   1195\u001b[0m \u001b[39m# Do not call functions when jit is used\u001b[39;00m\n\u001b[1;32m   1196\u001b[0m full_backward_hooks, non_full_backward_hooks \u001b[39m=\u001b[39m [], []\n",
      "File \u001b[0;32m~/.local/lib/python3.10/site-packages/torch/nn/modules/container.py:204\u001b[0m, in \u001b[0;36mSequential.forward\u001b[0;34m(self, input)\u001b[0m\n\u001b[1;32m    202\u001b[0m \u001b[39mdef\u001b[39;00m \u001b[39mforward\u001b[39m(\u001b[39mself\u001b[39m, \u001b[39minput\u001b[39m):\n\u001b[1;32m    203\u001b[0m     \u001b[39mfor\u001b[39;00m module \u001b[39min\u001b[39;00m \u001b[39mself\u001b[39m:\n\u001b[0;32m--> 204\u001b[0m         \u001b[39minput\u001b[39m \u001b[39m=\u001b[39m module(\u001b[39minput\u001b[39;49m)\n\u001b[1;32m    205\u001b[0m     \u001b[39mreturn\u001b[39;00m \u001b[39minput\u001b[39m\n",
      "File \u001b[0;32m~/.local/lib/python3.10/site-packages/torch/nn/modules/module.py:1194\u001b[0m, in \u001b[0;36mModule._call_impl\u001b[0;34m(self, *input, **kwargs)\u001b[0m\n\u001b[1;32m   1190\u001b[0m \u001b[39m# If we don't have any hooks, we want to skip the rest of the logic in\u001b[39;00m\n\u001b[1;32m   1191\u001b[0m \u001b[39m# this function, and just call forward.\u001b[39;00m\n\u001b[1;32m   1192\u001b[0m \u001b[39mif\u001b[39;00m \u001b[39mnot\u001b[39;00m (\u001b[39mself\u001b[39m\u001b[39m.\u001b[39m_backward_hooks \u001b[39mor\u001b[39;00m \u001b[39mself\u001b[39m\u001b[39m.\u001b[39m_forward_hooks \u001b[39mor\u001b[39;00m \u001b[39mself\u001b[39m\u001b[39m.\u001b[39m_forward_pre_hooks \u001b[39mor\u001b[39;00m _global_backward_hooks\n\u001b[1;32m   1193\u001b[0m         \u001b[39mor\u001b[39;00m _global_forward_hooks \u001b[39mor\u001b[39;00m _global_forward_pre_hooks):\n\u001b[0;32m-> 1194\u001b[0m     \u001b[39mreturn\u001b[39;00m forward_call(\u001b[39m*\u001b[39;49m\u001b[39minput\u001b[39;49m, \u001b[39m*\u001b[39;49m\u001b[39m*\u001b[39;49mkwargs)\n\u001b[1;32m   1195\u001b[0m \u001b[39m# Do not call functions when jit is used\u001b[39;00m\n\u001b[1;32m   1196\u001b[0m full_backward_hooks, non_full_backward_hooks \u001b[39m=\u001b[39m [], []\n",
      "File \u001b[0;32m~/ai/hand-transformer/hand.py:229\u001b[0m, in \u001b[0;36mTransformerBlock.forward\u001b[0;34m(self, x)\u001b[0m\n\u001b[1;32m    227\u001b[0m x \u001b[39m=\u001b[39m \u001b[39mself\u001b[39m\u001b[39m.\u001b[39mattention(x)\n\u001b[1;32m    228\u001b[0m \u001b[39mif\u001b[39;00m \u001b[39mself\u001b[39m\u001b[39m.\u001b[39mmlp \u001b[39mis\u001b[39;00m \u001b[39mnot\u001b[39;00m \u001b[39mNone\u001b[39;00m:\n\u001b[0;32m--> 229\u001b[0m     x \u001b[39m=\u001b[39m \u001b[39mself\u001b[39;49m\u001b[39m.\u001b[39;49mmlp(x)\n\u001b[1;32m    230\u001b[0m \u001b[39mreturn\u001b[39;00m x\n",
      "File \u001b[0;32m~/.local/lib/python3.10/site-packages/torch/nn/modules/module.py:1194\u001b[0m, in \u001b[0;36mModule._call_impl\u001b[0;34m(self, *input, **kwargs)\u001b[0m\n\u001b[1;32m   1190\u001b[0m \u001b[39m# If we don't have any hooks, we want to skip the rest of the logic in\u001b[39;00m\n\u001b[1;32m   1191\u001b[0m \u001b[39m# this function, and just call forward.\u001b[39;00m\n\u001b[1;32m   1192\u001b[0m \u001b[39mif\u001b[39;00m \u001b[39mnot\u001b[39;00m (\u001b[39mself\u001b[39m\u001b[39m.\u001b[39m_backward_hooks \u001b[39mor\u001b[39;00m \u001b[39mself\u001b[39m\u001b[39m.\u001b[39m_forward_hooks \u001b[39mor\u001b[39;00m \u001b[39mself\u001b[39m\u001b[39m.\u001b[39m_forward_pre_hooks \u001b[39mor\u001b[39;00m _global_backward_hooks\n\u001b[1;32m   1193\u001b[0m         \u001b[39mor\u001b[39;00m _global_forward_hooks \u001b[39mor\u001b[39;00m _global_forward_pre_hooks):\n\u001b[0;32m-> 1194\u001b[0m     \u001b[39mreturn\u001b[39;00m forward_call(\u001b[39m*\u001b[39;49m\u001b[39minput\u001b[39;49m, \u001b[39m*\u001b[39;49m\u001b[39m*\u001b[39;49mkwargs)\n\u001b[1;32m   1195\u001b[0m \u001b[39m# Do not call functions when jit is used\u001b[39;00m\n\u001b[1;32m   1196\u001b[0m full_backward_hooks, non_full_backward_hooks \u001b[39m=\u001b[39m [], []\n",
      "File \u001b[0;32m~/ai/hand-transformer/hand.py:190\u001b[0m, in \u001b[0;36mResidualMLP.forward\u001b[0;34m(self, x)\u001b[0m\n\u001b[1;32m    188\u001b[0m initial \u001b[39m=\u001b[39m x\n\u001b[1;32m    189\u001b[0m \u001b[39mfor\u001b[39;00m l, layer \u001b[39min\u001b[39;00m \u001b[39menumerate\u001b[39m(\u001b[39mself\u001b[39m\u001b[39m.\u001b[39mlayers):\n\u001b[0;32m--> 190\u001b[0m     x \u001b[39m=\u001b[39m layer(x)\n\u001b[1;32m    191\u001b[0m     debug(x, \u001b[39mself\u001b[39m\u001b[39m.\u001b[39mlayer, \u001b[39m\"\u001b[39m\u001b[39mmlp\u001b[39m\u001b[39m\"\u001b[39m, l)\n\u001b[1;32m    192\u001b[0m     x \u001b[39m=\u001b[39m torch\u001b[39m.\u001b[39mrelu(x)\n",
      "File \u001b[0;32m~/.local/lib/python3.10/site-packages/torch/nn/modules/module.py:1194\u001b[0m, in \u001b[0;36mModule._call_impl\u001b[0;34m(self, *input, **kwargs)\u001b[0m\n\u001b[1;32m   1190\u001b[0m \u001b[39m# If we don't have any hooks, we want to skip the rest of the logic in\u001b[39;00m\n\u001b[1;32m   1191\u001b[0m \u001b[39m# this function, and just call forward.\u001b[39;00m\n\u001b[1;32m   1192\u001b[0m \u001b[39mif\u001b[39;00m \u001b[39mnot\u001b[39;00m (\u001b[39mself\u001b[39m\u001b[39m.\u001b[39m_backward_hooks \u001b[39mor\u001b[39;00m \u001b[39mself\u001b[39m\u001b[39m.\u001b[39m_forward_hooks \u001b[39mor\u001b[39;00m \u001b[39mself\u001b[39m\u001b[39m.\u001b[39m_forward_pre_hooks \u001b[39mor\u001b[39;00m _global_backward_hooks\n\u001b[1;32m   1193\u001b[0m         \u001b[39mor\u001b[39;00m _global_forward_hooks \u001b[39mor\u001b[39;00m _global_forward_pre_hooks):\n\u001b[0;32m-> 1194\u001b[0m     \u001b[39mreturn\u001b[39;00m forward_call(\u001b[39m*\u001b[39;49m\u001b[39minput\u001b[39;49m, \u001b[39m*\u001b[39;49m\u001b[39m*\u001b[39;49mkwargs)\n\u001b[1;32m   1195\u001b[0m \u001b[39m# Do not call functions when jit is used\u001b[39;00m\n\u001b[1;32m   1196\u001b[0m full_backward_hooks, non_full_backward_hooks \u001b[39m=\u001b[39m [], []\n",
      "File \u001b[0;32m~/.local/lib/python3.10/site-packages/torch/nn/modules/linear.py:114\u001b[0m, in \u001b[0;36mLinear.forward\u001b[0;34m(self, input)\u001b[0m\n\u001b[1;32m    113\u001b[0m \u001b[39mdef\u001b[39;00m \u001b[39mforward\u001b[39m(\u001b[39mself\u001b[39m, \u001b[39minput\u001b[39m: Tensor) \u001b[39m-\u001b[39m\u001b[39m>\u001b[39m Tensor:\n\u001b[0;32m--> 114\u001b[0m     \u001b[39mreturn\u001b[39;00m F\u001b[39m.\u001b[39;49mlinear(\u001b[39minput\u001b[39;49m, \u001b[39mself\u001b[39;49m\u001b[39m.\u001b[39;49mweight, \u001b[39mself\u001b[39;49m\u001b[39m.\u001b[39;49mbias)\n",
      "\u001b[0;31mKeyboardInterrupt\u001b[0m: "
     ]
    }
   ],
   "source": [
    "while True:\n",
    "    logic()"
   ]
  },
  {
   "attachments": {},
   "cell_type": "markdown",
   "metadata": {},
   "source": [
    "# Pygame vizualization"
   ]
  },
  {
   "cell_type": "code",
   "execution_count": 16,
   "metadata": {},
   "outputs": [],
   "source": [
    "from viz.utils import *\n",
    "from viz.engine import *"
   ]
  },
  {
   "cell_type": "code",
   "execution_count": 62,
   "metadata": {},
   "outputs": [],
   "source": [
    "prompts = answers = None\n",
    "avg_acc = 0\n",
    "\n",
    "def new_prompts_to_show():\n",
    "    global prompts, answers, avg_acc\n",
    "    prompts, answers = task.generate(10000, False, 100)\n",
    "\n",
    "    # pick only the few worst and few best\n",
    "    pred: TT = model(task.encode(prompts, task.prompt_len))\n",
    "    \n",
    "    answers_pos = task.encode(answers)\n",
    "    correct_proba = torch.gather(pred.softmax(1), 1, answers_pos).squeeze()\n",
    "    avg_acc = correct_proba.mean().item()\n",
    "\n",
    "    losses = torch.nn.functional.cross_entropy(pred, task.encode(answers).squeeze(), reduction=\"none\")\n",
    "    losses, idx = losses.sort()\n",
    "\n",
    "    idx = torch.cat([idx[:-20:len(idx)//10], idx[-20::2]])\n",
    "    prompts = [prompts[i] for i in idx]\n",
    "    answers = [answers[i] for i in idx]\n",
    "new_prompts_to_show()\n",
    "\n",
    "def draw(gfx: GFX):\n",
    "    return\n",
    "    with torch.no_grad():\n",
    "        # if random.random() < 1 / (30 * 2):\n",
    "        #     new_prompts_to_show()\n",
    "        losses = torch.tensor(perfs.loss[-500:])\n",
    "        r = gfx.plot(losses, \"orange\", \"Loss\", axis=1, topleft=(100, 100))\n",
    "        gfx.plot(losses.clamp_max(0.1), \"orange\", \"Loss\", axis=1, topleft=r.topright)\n",
    "        r.inflate_ip(0, 20)\n",
    "        pred: TT['batch', 'token'] = model(task.encode(prompts, task.prompt_len))\n",
    "        for p, a, g in zip(prompts, answers, pred):\n",
    "            if p == prompts[-10]:\n",
    "                r.y += 20\n",
    "            g = g.softmax(0)\n",
    "            p = task.pad_token * (task.prompt_len - len(p)) + p\n",
    "            r = gfx.text(f\"{p} → {a}\", topleft=r.bottomleft)\n",
    "            r2 = r.inflate(40, 0)\n",
    "            for prob, t in zip(g, task.tokens):\n",
    "                color = mix((0, 0, 0), (255, 0, 0), prob.item())\n",
    "                r2 = gfx.text(f\"{t}\", color=color, topleft=r2.topright)\n",
    "            # add prob of correct answer as %\n",
    "            r2 = gfx.text(f\"  {g[task.tokens.index(a)].item():.0%}\", topleft=r2.topright)\n",
    "\n",
    "        # using torch.gather\n",
    "        answer_positions = task.encode(answers)\n",
    "        correct_proba = torch.gather(pred.softmax(1), 1, answer_positions).squeeze()\n",
    "        # accuracy = correct_proba.mean().item()\n",
    "\n",
    "        worse_accuracy = correct_proba.min().item()\n",
    "\n",
    "    r = gfx.texts(\n",
    "        f\"epoch: {len(perfs.loss)}\",\n",
    "        f\"max_number: {task.max_number-1}\",\n",
    "        f\"avg accuracy: {avg_acc:.1%}\",\n",
    "        f\"worst accuracy: {worse_accuracy:.0%}\",\n",
    "        f\"loss: {sum(losses[-10:])/10:.5f}\",\n",
    "        f\"target loss: {2 / task.dataset_size():.5f}\",\n",
    "        f\"lr: {lr:.5f}\",\n",
    "        f\"weight_decay: {weight_decay}\",\n",
    "        topleft=r.bottomleft + Vec2(0, 10))\n",
    "    # transformer_outline(gfx, model, r.bottomleft)\n",
    "    model.blocks[0]: TransformerBlock\n",
    "    # draw_matrix(gfx, model.blocks[2].attention.heads[3].qk(), 20, \"Embedding\", topleft=r.bottomleft)"
   ]
  },
  {
   "cell_type": "code",
   "execution_count": 40,
   "metadata": {},
   "outputs": [
    {
     "name": "stdout",
     "output_type": "stream",
     "text": [
      "Dataset size: 423150\n",
      "295:45 Learned to add up to 242\n",
      "305:3 Learned to add up to 259\n",
      "315:52 Learned to add up to 277\n",
      "329:52 Learned to add up to 296\n",
      "346:55 Learned to add up to 316\n",
      "359:52 Learned to add up to 338\n",
      "376:14 Learned to add up to 361\n",
      "386:51 Learned to add up to 386\n",
      "400:19 Learned to add up to 412\n",
      "409:49 Learned to add up to 440\n"
     ]
    }
   ],
   "source": [
    "print(\"Dataset size:\", task.dataset_size())\n",
    "for s in saves[-10:]:\n",
    "    delta = s.timestamp - saves[0].timestamp\n",
    "    # human readable fmt\n",
    "    delta = f\"{delta // 60:.0f}:{delta % 60:.0f}\"\n",
    "    print(f\"{delta} {s.note}\")"
   ]
  },
  {
   "cell_type": "code",
   "execution_count": 57,
   "metadata": {},
   "outputs": [
    {
     "data": {
      "text/plain": [
       "[<matplotlib.lines.Line2D at 0x7faa5858c400>]"
      ]
     },
     "execution_count": 57,
     "metadata": {},
     "output_type": "execute_result"
    },
    {
     "data": {
      "image/png": "[encoded data removed]",
      "text/plain": [
       "<Figure size 640x480 with 1 Axes>"
      ]
     },
     "metadata": {},
     "output_type": "display_data"
    }
   ],
   "source": [
    "# plot times of saves\n",
    "times = [s.timestamp - saves[1].timestamp for s in saves[1:]]\n",
    "maxis = [int(s.note.rpartition(\" \")[-1]) for s in saves[1:]]\n",
    "plt.plot([(s.timestamp - saves[0].timestamp) / 60 for s in saves])"
   ]
  },
  {
   "cell_type": "code",
   "execution_count": 60,
   "metadata": {},
   "outputs": [
    {
     "name": "stdout",
     "output_type": "stream",
     "text": [
      "Saved model state to 73, note: 88% accuracy up to ± 649 at Fri Mar 17 11:30:21 2023\n"
     ]
    }
   ],
   "source": [
    "save(\"88% accuracy up to ± 649\")"
   ]
  },
  {
   "cell_type": "code",
   "execution_count": 44,
   "metadata": {},
   "outputs": [],
   "source": []
  }
 ],
 "metadata": {
  "kernelspec": {
   "display_name": "Python 3",
   "language": "python",
   "name": "python3"
  },
  "language_info": {
   "codemirror_mode": {
    "name": "ipython",
    "version": 3
   },
   "file_extension": ".py",
   "mimetype": "text/x-python",
   "name": "python",
   "nbconvert_exporter": "python",
   "pygments_lexer": "ipython3",
   "version": "3.10.9"
  },
  "orig_nbformat": 4,
  "vscode": {
   "interpreter": {
    "hash": "e7370f93d1d0cde622a1f8e1c04877d8463912d04d973331ad4851f04de6915a"
   }
  }
 },
 "nbformat": 4,
 "nbformat_minor": 2
}
